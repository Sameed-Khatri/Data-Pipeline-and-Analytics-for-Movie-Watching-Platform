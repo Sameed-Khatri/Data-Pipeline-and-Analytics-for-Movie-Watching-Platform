{
 "cells": [
  {
   "cell_type": "code",
   "execution_count": 13,
   "metadata": {},
   "outputs": [],
   "source": [
    "import pandas as pd\n",
    "import mysql.connector"
   ]
  },
  {
   "cell_type": "code",
   "execution_count": 14,
   "metadata": {},
   "outputs": [],
   "source": [
    "# Connect to MySQL database\n",
    "mydb = mysql.connector.connect(\n",
    "    host=\"localhost\",\n",
    "    user=\"root\",\n",
    "    password=\"root\",\n",
    "    database=\"contentfactmart\"\n",
    ")\n",
    "cursor = mydb.cursor()"
   ]
  },
  {
   "cell_type": "code",
   "execution_count": 15,
   "metadata": {},
   "outputs": [
    {
     "name": "stderr",
     "output_type": "stream",
     "text": [
      "C:\\Users\\hp\\AppData\\Local\\Temp\\ipykernel_9432\\3511267300.py:2: UserWarning: pandas only supports SQLAlchemy connectable (engine/connection) or database string URI or sqlite3 DBAPI2 connection. Other DBAPI2 objects are not tested. Please consider using SQLAlchemy.\n",
      "  dfcontentfact = pd.read_sql(sql_query, con=mydb)\n"
     ]
    }
   ],
   "source": [
    "sql_query = \"SELECT * FROM contentfact\"\n",
    "dfcontentfact = pd.read_sql(sql_query, con=mydb)\n",
    "dfcontentfact.to_csv('ARCHIVEcontentfact.csv',index=False)"
   ]
  },
  {
   "cell_type": "code",
   "execution_count": 16,
   "metadata": {},
   "outputs": [
    {
     "name": "stderr",
     "output_type": "stream",
     "text": [
      "C:\\Users\\hp\\AppData\\Local\\Temp\\ipykernel_9432\\1971621334.py:2: UserWarning: pandas only supports SQLAlchemy connectable (engine/connection) or database string URI or sqlite3 DBAPI2 connection. Other DBAPI2 objects are not tested. Please consider using SQLAlchemy.\n",
      "  dfcountry = pd.read_sql(sql_query, con=mydb)\n"
     ]
    }
   ],
   "source": [
    "sql_query = \"SELECT * FROM country\"\n",
    "dfcountry = pd.read_sql(sql_query, con=mydb)\n",
    "dfcountry.to_csv('ARCHIVEcountry.csv',index=False)"
   ]
  },
  {
   "cell_type": "code",
   "execution_count": 17,
   "metadata": {},
   "outputs": [
    {
     "name": "stderr",
     "output_type": "stream",
     "text": [
      "C:\\Users\\hp\\AppData\\Local\\Temp\\ipykernel_9432\\3489310096.py:2: UserWarning: pandas only supports SQLAlchemy connectable (engine/connection) or database string URI or sqlite3 DBAPI2 connection. Other DBAPI2 objects are not tested. Please consider using SQLAlchemy.\n",
      "  dfcountrylist = pd.read_sql(sql_query, con=mydb)\n"
     ]
    }
   ],
   "source": [
    "sql_query = \"SELECT * FROM countrylist\"\n",
    "dfcountrylist = pd.read_sql(sql_query, con=mydb)\n",
    "dfcountrylist.to_csv('ARCHIVEcountrylist.csv',index=False)"
   ]
  },
  {
   "cell_type": "code",
   "execution_count": 18,
   "metadata": {},
   "outputs": [
    {
     "name": "stderr",
     "output_type": "stream",
     "text": [
      "C:\\Users\\hp\\AppData\\Local\\Temp\\ipykernel_9432\\1463199453.py:2: UserWarning: pandas only supports SQLAlchemy connectable (engine/connection) or database string URI or sqlite3 DBAPI2 connection. Other DBAPI2 objects are not tested. Please consider using SQLAlchemy.\n",
      "  dfdate = pd.read_sql(sql_query, con=mydb)\n"
     ]
    }
   ],
   "source": [
    "sql_query = \"SELECT * FROM date\"\n",
    "dfdate = pd.read_sql(sql_query, con=mydb)\n",
    "dfdate.to_csv('ARCHIVEdate.csv',index=False)"
   ]
  },
  {
   "cell_type": "code",
   "execution_count": 19,
   "metadata": {},
   "outputs": [
    {
     "name": "stderr",
     "output_type": "stream",
     "text": [
      "C:\\Users\\hp\\AppData\\Local\\Temp\\ipykernel_9432\\1543992670.py:2: UserWarning: pandas only supports SQLAlchemy connectable (engine/connection) or database string URI or sqlite3 DBAPI2 connection. Other DBAPI2 objects are not tested. Please consider using SQLAlchemy.\n",
      "  dffilm = pd.read_sql(sql_query, con=mydb)\n"
     ]
    }
   ],
   "source": [
    "sql_query = \"SELECT * FROM film\"\n",
    "dffilm = pd.read_sql(sql_query, con=mydb)\n",
    "dffilm.to_csv('ARCHIVEfilm.csv',index=False)"
   ]
  },
  {
   "cell_type": "code",
   "execution_count": 20,
   "metadata": {},
   "outputs": [
    {
     "name": "stderr",
     "output_type": "stream",
     "text": [
      "C:\\Users\\hp\\AppData\\Local\\Temp\\ipykernel_9432\\3565980709.py:2: UserWarning: pandas only supports SQLAlchemy connectable (engine/connection) or database string URI or sqlite3 DBAPI2 connection. Other DBAPI2 objects are not tested. Please consider using SQLAlchemy.\n",
      "  dfgenrelist = pd.read_sql(sql_query, con=mydb)\n"
     ]
    }
   ],
   "source": [
    "sql_query = \"SELECT * FROM genrelist\"\n",
    "dfgenrelist = pd.read_sql(sql_query, con=mydb)\n",
    "dfgenrelist.to_csv('ARCHIVEgenrelist.csv',index=False)"
   ]
  },
  {
   "cell_type": "code",
   "execution_count": 21,
   "metadata": {},
   "outputs": [
    {
     "name": "stderr",
     "output_type": "stream",
     "text": [
      "C:\\Users\\hp\\AppData\\Local\\Temp\\ipykernel_9432\\1336168746.py:2: UserWarning: pandas only supports SQLAlchemy connectable (engine/connection) or database string URI or sqlite3 DBAPI2 connection. Other DBAPI2 objects are not tested. Please consider using SQLAlchemy.\n",
      "  dfserie = pd.read_sql(sql_query, con=mydb)\n"
     ]
    }
   ],
   "source": [
    "sql_query = \"SELECT * FROM serie\"\n",
    "dfserie = pd.read_sql(sql_query, con=mydb)\n",
    "dfserie.to_csv('ARCHIVEserie.csv',index=False)"
   ]
  }
 ],
 "metadata": {
  "kernelspec": {
   "display_name": "Python 3",
   "language": "python",
   "name": "python3"
  },
  "language_info": {
   "codemirror_mode": {
    "name": "ipython",
    "version": 3
   },
   "file_extension": ".py",
   "mimetype": "text/x-python",
   "name": "python",
   "nbconvert_exporter": "python",
   "pygments_lexer": "ipython3",
   "version": "3.11.9"
  }
 },
 "nbformat": 4,
 "nbformat_minor": 2
}
