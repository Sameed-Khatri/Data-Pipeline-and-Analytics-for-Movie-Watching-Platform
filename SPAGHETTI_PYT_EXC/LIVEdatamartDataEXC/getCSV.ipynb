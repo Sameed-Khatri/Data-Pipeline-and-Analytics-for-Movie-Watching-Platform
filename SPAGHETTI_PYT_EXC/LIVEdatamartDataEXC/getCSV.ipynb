{
 "cells": [
  {
   "cell_type": "code",
   "execution_count": 1,
   "metadata": {},
   "outputs": [],
   "source": [
    "import pandas as pd\n",
    "import mysql.connector"
   ]
  },
  {
   "cell_type": "code",
   "execution_count": 3,
   "metadata": {},
   "outputs": [],
   "source": [
    "# Connect to MySQL database\n",
    "mydb = mysql.connector.connect(\n",
    "    host=\"localhost\",\n",
    "    user=\"root\",\n",
    "    password=\"root\",\n",
    "    database=\"contentfactmartlive\"\n",
    ")\n",
    "cursor = mydb.cursor()"
   ]
  },
  {
   "cell_type": "code",
   "execution_count": 4,
   "metadata": {},
   "outputs": [
    {
     "name": "stderr",
     "output_type": "stream",
     "text": [
      "C:\\Users\\hp\\AppData\\Local\\Temp\\ipykernel_6344\\1866906217.py:2: UserWarning: pandas only supports SQLAlchemy connectable (engine/connection) or database string URI or sqlite3 DBAPI2 connection. Other DBAPI2 objects are not tested. Please consider using SQLAlchemy.\n",
      "  dfcontentfact = pd.read_sql(sql_query, con=mydb)\n"
     ]
    }
   ],
   "source": [
    "sql_query = \"SELECT * FROM contentfact\"\n",
    "dfcontentfact = pd.read_sql(sql_query, con=mydb)\n",
    "dfcontentfact.to_csv('LIVEcontentfact.csv',index=False)"
   ]
  },
  {
   "cell_type": "code",
   "execution_count": 5,
   "metadata": {},
   "outputs": [
    {
     "name": "stderr",
     "output_type": "stream",
     "text": [
      "C:\\Users\\hp\\AppData\\Local\\Temp\\ipykernel_6344\\1552494518.py:2: UserWarning: pandas only supports SQLAlchemy connectable (engine/connection) or database string URI or sqlite3 DBAPI2 connection. Other DBAPI2 objects are not tested. Please consider using SQLAlchemy.\n",
      "  dfcountry = pd.read_sql(sql_query, con=mydb)\n"
     ]
    }
   ],
   "source": [
    "sql_query = \"SELECT * FROM country\"\n",
    "dfcountry = pd.read_sql(sql_query, con=mydb)\n",
    "dfcountry.to_csv('LIVEcountry.csv',index=False)"
   ]
  },
  {
   "cell_type": "code",
   "execution_count": 6,
   "metadata": {},
   "outputs": [
    {
     "name": "stderr",
     "output_type": "stream",
     "text": [
      "C:\\Users\\hp\\AppData\\Local\\Temp\\ipykernel_6344\\3360651038.py:2: UserWarning: pandas only supports SQLAlchemy connectable (engine/connection) or database string URI or sqlite3 DBAPI2 connection. Other DBAPI2 objects are not tested. Please consider using SQLAlchemy.\n",
      "  dfcountrylist = pd.read_sql(sql_query, con=mydb)\n"
     ]
    }
   ],
   "source": [
    "sql_query = \"SELECT * FROM countrylist\"\n",
    "dfcountrylist = pd.read_sql(sql_query, con=mydb)\n",
    "dfcountrylist.to_csv('LIVEcountrylist.csv',index=False)"
   ]
  },
  {
   "cell_type": "code",
   "execution_count": 7,
   "metadata": {},
   "outputs": [
    {
     "name": "stderr",
     "output_type": "stream",
     "text": [
      "C:\\Users\\hp\\AppData\\Local\\Temp\\ipykernel_6344\\827478939.py:2: UserWarning: pandas only supports SQLAlchemy connectable (engine/connection) or database string URI or sqlite3 DBAPI2 connection. Other DBAPI2 objects are not tested. Please consider using SQLAlchemy.\n",
      "  dfdate = pd.read_sql(sql_query, con=mydb)\n"
     ]
    }
   ],
   "source": [
    "sql_query = \"SELECT * FROM date\"\n",
    "dfdate = pd.read_sql(sql_query, con=mydb)\n",
    "dfdate.to_csv('LIVEdate.csv',index=False)"
   ]
  },
  {
   "cell_type": "code",
   "execution_count": 8,
   "metadata": {},
   "outputs": [
    {
     "name": "stderr",
     "output_type": "stream",
     "text": [
      "C:\\Users\\hp\\AppData\\Local\\Temp\\ipykernel_6344\\2040352575.py:2: UserWarning: pandas only supports SQLAlchemy connectable (engine/connection) or database string URI or sqlite3 DBAPI2 connection. Other DBAPI2 objects are not tested. Please consider using SQLAlchemy.\n",
      "  dffilm = pd.read_sql(sql_query, con=mydb)\n"
     ]
    }
   ],
   "source": [
    "sql_query = \"SELECT * FROM film\"\n",
    "dffilm = pd.read_sql(sql_query, con=mydb)\n",
    "dffilm.to_csv('LIVEfilm.csv',index=False)"
   ]
  },
  {
   "cell_type": "code",
   "execution_count": 9,
   "metadata": {},
   "outputs": [
    {
     "name": "stderr",
     "output_type": "stream",
     "text": [
      "C:\\Users\\hp\\AppData\\Local\\Temp\\ipykernel_6344\\3638754868.py:2: UserWarning: pandas only supports SQLAlchemy connectable (engine/connection) or database string URI or sqlite3 DBAPI2 connection. Other DBAPI2 objects are not tested. Please consider using SQLAlchemy.\n",
      "  dfgenrelist = pd.read_sql(sql_query, con=mydb)\n"
     ]
    }
   ],
   "source": [
    "sql_query = \"SELECT * FROM genrelist\"\n",
    "dfgenrelist = pd.read_sql(sql_query, con=mydb)\n",
    "dfgenrelist.to_csv('LIVEgenrelist.csv',index=False)"
   ]
  },
  {
   "cell_type": "code",
   "execution_count": 10,
   "metadata": {},
   "outputs": [
    {
     "name": "stderr",
     "output_type": "stream",
     "text": [
      "C:\\Users\\hp\\AppData\\Local\\Temp\\ipykernel_6344\\2596799318.py:2: UserWarning: pandas only supports SQLAlchemy connectable (engine/connection) or database string URI or sqlite3 DBAPI2 connection. Other DBAPI2 objects are not tested. Please consider using SQLAlchemy.\n",
      "  dfserie = pd.read_sql(sql_query, con=mydb)\n"
     ]
    }
   ],
   "source": [
    "sql_query = \"SELECT * FROM serie\"\n",
    "dfserie = pd.read_sql(sql_query, con=mydb)\n",
    "dfserie.to_csv('LIVEserie.csv',index=False)"
   ]
  }
 ],
 "metadata": {
  "kernelspec": {
   "display_name": "Python 3",
   "language": "python",
   "name": "python3"
  },
  "language_info": {
   "codemirror_mode": {
    "name": "ipython",
    "version": 3
   },
   "file_extension": ".py",
   "mimetype": "text/x-python",
   "name": "python",
   "nbconvert_exporter": "python",
   "pygments_lexer": "ipython3",
   "version": "3.11.9"
  }
 },
 "nbformat": 4,
 "nbformat_minor": 2
}
