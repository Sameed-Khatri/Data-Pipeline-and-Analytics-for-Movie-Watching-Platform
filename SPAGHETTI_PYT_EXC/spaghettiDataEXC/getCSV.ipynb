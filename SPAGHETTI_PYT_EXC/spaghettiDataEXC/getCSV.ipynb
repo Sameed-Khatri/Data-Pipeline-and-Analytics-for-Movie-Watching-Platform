{
 "cells": [
  {
   "cell_type": "code",
   "execution_count": 1,
   "metadata": {},
   "outputs": [],
   "source": [
    "import pandas as pd\n",
    "import mysql.connector"
   ]
  },
  {
   "cell_type": "code",
   "execution_count": 2,
   "metadata": {},
   "outputs": [],
   "source": [
    "# Connect to MySQL database\n",
    "mydb = mysql.connector.connect(\n",
    "    host=\"localhost\",\n",
    "    user=\"root\",\n",
    "    password=\"root\",\n",
    "    database=\"dwh\"\n",
    ")\n",
    "cursor = mydb.cursor()"
   ]
  },
  {
   "cell_type": "code",
   "execution_count": 3,
   "metadata": {},
   "outputs": [
    {
     "name": "stderr",
     "output_type": "stream",
     "text": [
      "C:\\Users\\hp\\AppData\\Local\\Temp\\ipykernel_18612\\3690196477.py:2: UserWarning: pandas only supports SQLAlchemy connectable (engine/connection) or database string URI or sqlite3 DBAPI2 connection. Other DBAPI2 objects are not tested. Please consider using SQLAlchemy.\n",
      "  dfWatchingHistory = pd.read_sql(sql_query, con=mydb)\n"
     ]
    }
   ],
   "source": [
    "sql_query = \"SELECT * FROM watchinghistory\"\n",
    "dfWatchingHistory = pd.read_sql(sql_query, con=mydb)\n",
    "dfWatchingHistory.to_csv('watchinghistory.csv',index=False)"
   ]
  },
  {
   "cell_type": "code",
   "execution_count": 4,
   "metadata": {},
   "outputs": [
    {
     "name": "stderr",
     "output_type": "stream",
     "text": [
      "C:\\Users\\hp\\AppData\\Local\\Temp\\ipykernel_18612\\1598607986.py:2: UserWarning: pandas only supports SQLAlchemy connectable (engine/connection) or database string URI or sqlite3 DBAPI2 connection. Other DBAPI2 objects are not tested. Please consider using SQLAlchemy.\n",
      "  dfActor = pd.read_sql(sql_query, con=mydb)\n"
     ]
    }
   ],
   "source": [
    "sql_query = \"SELECT * FROM actor\"\n",
    "dfActor = pd.read_sql(sql_query, con=mydb)\n",
    "dfActor.to_csv('actor.csv',index=False)"
   ]
  },
  {
   "cell_type": "code",
   "execution_count": 5,
   "metadata": {},
   "outputs": [
    {
     "name": "stderr",
     "output_type": "stream",
     "text": [
      "C:\\Users\\hp\\AppData\\Local\\Temp\\ipykernel_18612\\1746342877.py:2: UserWarning: pandas only supports SQLAlchemy connectable (engine/connection) or database string URI or sqlite3 DBAPI2 connection. Other DBAPI2 objects are not tested. Please consider using SQLAlchemy.\n",
      "  dfActorfilm = pd.read_sql(sql_query, con=mydb)\n"
     ]
    }
   ],
   "source": [
    "sql_query = \"SELECT * FROM actorfilm\"\n",
    "dfActorfilm = pd.read_sql(sql_query, con=mydb)\n",
    "dfActorfilm.to_csv('actorfilm.csv',index=False)"
   ]
  },
  {
   "cell_type": "code",
   "execution_count": 6,
   "metadata": {},
   "outputs": [
    {
     "name": "stderr",
     "output_type": "stream",
     "text": [
      "C:\\Users\\hp\\AppData\\Local\\Temp\\ipykernel_18612\\1742655557.py:2: UserWarning: pandas only supports SQLAlchemy connectable (engine/connection) or database string URI or sqlite3 DBAPI2 connection. Other DBAPI2 objects are not tested. Please consider using SQLAlchemy.\n",
      "  dfActorserie = pd.read_sql(sql_query, con=mydb)\n"
     ]
    }
   ],
   "source": [
    "sql_query = \"SELECT * FROM actorserie\"\n",
    "dfActorserie = pd.read_sql(sql_query, con=mydb)\n",
    "dfActorserie.to_csv('actorserie.csv',index=False)"
   ]
  },
  {
   "cell_type": "code",
   "execution_count": 7,
   "metadata": {},
   "outputs": [
    {
     "name": "stderr",
     "output_type": "stream",
     "text": [
      "C:\\Users\\hp\\AppData\\Local\\Temp\\ipykernel_18612\\4206368807.py:2: UserWarning: pandas only supports SQLAlchemy connectable (engine/connection) or database string URI or sqlite3 DBAPI2 connection. Other DBAPI2 objects are not tested. Please consider using SQLAlchemy.\n",
      "  dfagecategory = pd.read_sql(sql_query, con=mydb)\n"
     ]
    }
   ],
   "source": [
    "sql_query = \"SELECT * FROM agecategory\"\n",
    "dfagecategory = pd.read_sql(sql_query, con=mydb)\n",
    "dfagecategory.to_csv('agecategory.csv',index=False)"
   ]
  },
  {
   "cell_type": "code",
   "execution_count": 8,
   "metadata": {},
   "outputs": [
    {
     "name": "stderr",
     "output_type": "stream",
     "text": [
      "C:\\Users\\hp\\AppData\\Local\\Temp\\ipykernel_18612\\3330931102.py:2: UserWarning: pandas only supports SQLAlchemy connectable (engine/connection) or database string URI or sqlite3 DBAPI2 connection. Other DBAPI2 objects are not tested. Please consider using SQLAlchemy.\n",
      "  dfcountry = pd.read_sql(sql_query, con=mydb)\n"
     ]
    }
   ],
   "source": [
    "sql_query = \"SELECT * FROM country\"\n",
    "dfcountry = pd.read_sql(sql_query, con=mydb)\n",
    "dfcountry.to_csv('country.csv',index=False)"
   ]
  },
  {
   "cell_type": "code",
   "execution_count": 9,
   "metadata": {},
   "outputs": [
    {
     "name": "stderr",
     "output_type": "stream",
     "text": [
      "C:\\Users\\hp\\AppData\\Local\\Temp\\ipykernel_18612\\1934514348.py:2: UserWarning: pandas only supports SQLAlchemy connectable (engine/connection) or database string URI or sqlite3 DBAPI2 connection. Other DBAPI2 objects are not tested. Please consider using SQLAlchemy.\n",
      "  dfcreditcard = pd.read_sql(sql_query, con=mydb)\n"
     ]
    }
   ],
   "source": [
    "sql_query = \"SELECT * FROM creditcard\"\n",
    "dfcreditcard = pd.read_sql(sql_query, con=mydb)\n",
    "dfcreditcard.to_csv('creditcard.csv',index=False)"
   ]
  },
  {
   "cell_type": "code",
   "execution_count": 10,
   "metadata": {},
   "outputs": [
    {
     "name": "stderr",
     "output_type": "stream",
     "text": [
      "C:\\Users\\hp\\AppData\\Local\\Temp\\ipykernel_18612\\2355243802.py:2: UserWarning: pandas only supports SQLAlchemy connectable (engine/connection) or database string URI or sqlite3 DBAPI2 connection. Other DBAPI2 objects are not tested. Please consider using SQLAlchemy.\n",
      "  dfdate = pd.read_sql(sql_query, con=mydb)\n"
     ]
    }
   ],
   "source": [
    "sql_query = \"SELECT * FROM date\"\n",
    "dfdate = pd.read_sql(sql_query, con=mydb)\n",
    "dfdate.to_csv('date.csv',index=False)"
   ]
  },
  {
   "cell_type": "code",
   "execution_count": 11,
   "metadata": {},
   "outputs": [
    {
     "name": "stderr",
     "output_type": "stream",
     "text": [
      "C:\\Users\\hp\\AppData\\Local\\Temp\\ipykernel_18612\\3609691188.py:2: UserWarning: pandas only supports SQLAlchemy connectable (engine/connection) or database string URI or sqlite3 DBAPI2 connection. Other DBAPI2 objects are not tested. Please consider using SQLAlchemy.\n",
      "  dfepisode = pd.read_sql(sql_query, con=mydb)\n"
     ]
    }
   ],
   "source": [
    "sql_query = \"SELECT * FROM episode\"\n",
    "dfepisode = pd.read_sql(sql_query, con=mydb)\n",
    "dfepisode.to_csv('episode.csv',index=False)"
   ]
  },
  {
   "cell_type": "code",
   "execution_count": 12,
   "metadata": {},
   "outputs": [
    {
     "name": "stderr",
     "output_type": "stream",
     "text": [
      "C:\\Users\\hp\\AppData\\Local\\Temp\\ipykernel_18612\\3194715012.py:2: UserWarning: pandas only supports SQLAlchemy connectable (engine/connection) or database string URI or sqlite3 DBAPI2 connection. Other DBAPI2 objects are not tested. Please consider using SQLAlchemy.\n",
      "  dffilm = pd.read_sql(sql_query, con=mydb)\n"
     ]
    }
   ],
   "source": [
    "sql_query = \"SELECT * FROM film\"\n",
    "dffilm = pd.read_sql(sql_query, con=mydb)\n",
    "dffilm.to_csv('film.csv',index=False)"
   ]
  },
  {
   "cell_type": "code",
   "execution_count": 13,
   "metadata": {},
   "outputs": [
    {
     "name": "stderr",
     "output_type": "stream",
     "text": [
      "C:\\Users\\hp\\AppData\\Local\\Temp\\ipykernel_18612\\2844427102.py:2: UserWarning: pandas only supports SQLAlchemy connectable (engine/connection) or database string URI or sqlite3 DBAPI2 connection. Other DBAPI2 objects are not tested. Please consider using SQLAlchemy.\n",
      "  dffilmgenre = pd.read_sql(sql_query, con=mydb)\n"
     ]
    }
   ],
   "source": [
    "sql_query = \"SELECT * FROM filmgenre\"\n",
    "dffilmgenre = pd.read_sql(sql_query, con=mydb)\n",
    "dffilmgenre.to_csv('filmgenre.csv',index=False)"
   ]
  },
  {
   "cell_type": "code",
   "execution_count": 14,
   "metadata": {},
   "outputs": [
    {
     "name": "stderr",
     "output_type": "stream",
     "text": [
      "C:\\Users\\hp\\AppData\\Local\\Temp\\ipykernel_18612\\2001001325.py:2: UserWarning: pandas only supports SQLAlchemy connectable (engine/connection) or database string URI or sqlite3 DBAPI2 connection. Other DBAPI2 objects are not tested. Please consider using SQLAlchemy.\n",
      "  dffilmincountry = pd.read_sql(sql_query, con=mydb)\n"
     ]
    }
   ],
   "source": [
    "sql_query = \"SELECT * FROM filmincountry\"\n",
    "dffilmincountry = pd.read_sql(sql_query, con=mydb)\n",
    "dffilmincountry.to_csv('filmincountry.csv',index=False)"
   ]
  },
  {
   "cell_type": "code",
   "execution_count": 16,
   "metadata": {},
   "outputs": [
    {
     "name": "stderr",
     "output_type": "stream",
     "text": [
      "C:\\Users\\hp\\AppData\\Local\\Temp\\ipykernel_18612\\3906283188.py:2: UserWarning: pandas only supports SQLAlchemy connectable (engine/connection) or database string URI or sqlite3 DBAPI2 connection. Other DBAPI2 objects are not tested. Please consider using SQLAlchemy.\n",
      "  dffilmwishlist = pd.read_sql(sql_query, con=mydb)\n"
     ]
    }
   ],
   "source": [
    "sql_query = \"SELECT * FROM filmwhishlist\"\n",
    "dffilmwishlist = pd.read_sql(sql_query, con=mydb)\n",
    "dffilmwishlist.to_csv('filmwishlist.csv',index=False)"
   ]
  },
  {
   "cell_type": "code",
   "execution_count": 17,
   "metadata": {},
   "outputs": [
    {
     "name": "stderr",
     "output_type": "stream",
     "text": [
      "C:\\Users\\hp\\AppData\\Local\\Temp\\ipykernel_18612\\1636442240.py:2: UserWarning: pandas only supports SQLAlchemy connectable (engine/connection) or database string URI or sqlite3 DBAPI2 connection. Other DBAPI2 objects are not tested. Please consider using SQLAlchemy.\n",
      "  dfgenre = pd.read_sql(sql_query, con=mydb)\n"
     ]
    }
   ],
   "source": [
    "sql_query = \"SELECT * FROM genre\"\n",
    "dfgenre = pd.read_sql(sql_query, con=mydb)\n",
    "dfgenre.to_csv('genre.csv',index=False)"
   ]
  },
  {
   "cell_type": "code",
   "execution_count": 18,
   "metadata": {},
   "outputs": [
    {
     "name": "stderr",
     "output_type": "stream",
     "text": [
      "C:\\Users\\hp\\AppData\\Local\\Temp\\ipykernel_18612\\410650098.py:2: UserWarning: pandas only supports SQLAlchemy connectable (engine/connection) or database string URI or sqlite3 DBAPI2 connection. Other DBAPI2 objects are not tested. Please consider using SQLAlchemy.\n",
      "  dflanguage = pd.read_sql(sql_query, con=mydb)\n"
     ]
    }
   ],
   "source": [
    "sql_query = \"SELECT * FROM language\"\n",
    "dflanguage = pd.read_sql(sql_query, con=mydb)\n",
    "dflanguage.to_csv('language.csv',index=False)"
   ]
  },
  {
   "cell_type": "code",
   "execution_count": 19,
   "metadata": {},
   "outputs": [
    {
     "name": "stderr",
     "output_type": "stream",
     "text": [
      "C:\\Users\\hp\\AppData\\Local\\Temp\\ipykernel_18612\\1721967706.py:2: UserWarning: pandas only supports SQLAlchemy connectable (engine/connection) or database string URI or sqlite3 DBAPI2 connection. Other DBAPI2 objects are not tested. Please consider using SQLAlchemy.\n",
      "  dfpayment = pd.read_sql(sql_query, con=mydb)\n"
     ]
    }
   ],
   "source": [
    "sql_query = \"SELECT * FROM payment\"\n",
    "dfpayment = pd.read_sql(sql_query, con=mydb)\n",
    "dfpayment.to_csv('payment.csv',index=False)"
   ]
  },
  {
   "cell_type": "code",
   "execution_count": 20,
   "metadata": {},
   "outputs": [
    {
     "name": "stderr",
     "output_type": "stream",
     "text": [
      "C:\\Users\\hp\\AppData\\Local\\Temp\\ipykernel_18612\\1833590180.py:2: UserWarning: pandas only supports SQLAlchemy connectable (engine/connection) or database string URI or sqlite3 DBAPI2 connection. Other DBAPI2 objects are not tested. Please consider using SQLAlchemy.\n",
      "  dfplan = pd.read_sql(sql_query, con=mydb)\n"
     ]
    }
   ],
   "source": [
    "sql_query = \"SELECT * FROM plan\"\n",
    "dfplan = pd.read_sql(sql_query, con=mydb)\n",
    "dfplan.to_csv('plan.csv',index=False)"
   ]
  },
  {
   "cell_type": "code",
   "execution_count": 21,
   "metadata": {},
   "outputs": [
    {
     "name": "stderr",
     "output_type": "stream",
     "text": [
      "C:\\Users\\hp\\AppData\\Local\\Temp\\ipykernel_18612\\837276444.py:2: UserWarning: pandas only supports SQLAlchemy connectable (engine/connection) or database string URI or sqlite3 DBAPI2 connection. Other DBAPI2 objects are not tested. Please consider using SQLAlchemy.\n",
      "  dfserie = pd.read_sql(sql_query, con=mydb)\n"
     ]
    }
   ],
   "source": [
    "sql_query = \"SELECT * FROM serie\"\n",
    "dfserie = pd.read_sql(sql_query, con=mydb)\n",
    "dfserie.to_csv('serie.csv',index=False)"
   ]
  },
  {
   "cell_type": "code",
   "execution_count": 22,
   "metadata": {},
   "outputs": [
    {
     "name": "stderr",
     "output_type": "stream",
     "text": [
      "C:\\Users\\hp\\AppData\\Local\\Temp\\ipykernel_18612\\1356026296.py:2: UserWarning: pandas only supports SQLAlchemy connectable (engine/connection) or database string URI or sqlite3 DBAPI2 connection. Other DBAPI2 objects are not tested. Please consider using SQLAlchemy.\n",
      "  dfseriegenre = pd.read_sql(sql_query, con=mydb)\n"
     ]
    }
   ],
   "source": [
    "sql_query = \"SELECT * FROM seriegenre\"\n",
    "dfseriegenre = pd.read_sql(sql_query, con=mydb)\n",
    "dfseriegenre.to_csv('seriegenre.csv',index=False)"
   ]
  },
  {
   "cell_type": "code",
   "execution_count": 23,
   "metadata": {},
   "outputs": [
    {
     "name": "stderr",
     "output_type": "stream",
     "text": [
      "C:\\Users\\hp\\AppData\\Local\\Temp\\ipykernel_18612\\3331411189.py:2: UserWarning: pandas only supports SQLAlchemy connectable (engine/connection) or database string URI or sqlite3 DBAPI2 connection. Other DBAPI2 objects are not tested. Please consider using SQLAlchemy.\n",
      "  dfserieincountry = pd.read_sql(sql_query, con=mydb)\n"
     ]
    }
   ],
   "source": [
    "sql_query = \"SELECT * FROM serieincountry\"\n",
    "dfserieincountry = pd.read_sql(sql_query, con=mydb)\n",
    "dfserieincountry.to_csv('serieincountry.csv',index=False)"
   ]
  },
  {
   "cell_type": "code",
   "execution_count": 24,
   "metadata": {},
   "outputs": [
    {
     "name": "stderr",
     "output_type": "stream",
     "text": [
      "C:\\Users\\hp\\AppData\\Local\\Temp\\ipykernel_18612\\2272947846.py:2: UserWarning: pandas only supports SQLAlchemy connectable (engine/connection) or database string URI or sqlite3 DBAPI2 connection. Other DBAPI2 objects are not tested. Please consider using SQLAlchemy.\n",
      "  dfseriewhishlist = pd.read_sql(sql_query, con=mydb)\n"
     ]
    }
   ],
   "source": [
    "sql_query = \"SELECT * FROM seriewhishlist\"\n",
    "dfseriewhishlist = pd.read_sql(sql_query, con=mydb)\n",
    "dfseriewhishlist.to_csv('seriewishlist.csv',index=False)"
   ]
  },
  {
   "cell_type": "code",
   "execution_count": 25,
   "metadata": {},
   "outputs": [
    {
     "name": "stderr",
     "output_type": "stream",
     "text": [
      "C:\\Users\\hp\\AppData\\Local\\Temp\\ipykernel_18612\\94533362.py:2: UserWarning: pandas only supports SQLAlchemy connectable (engine/connection) or database string URI or sqlite3 DBAPI2 connection. Other DBAPI2 objects are not tested. Please consider using SQLAlchemy.\n",
      "  dfuser = pd.read_sql(sql_query, con=mydb)\n"
     ]
    }
   ],
   "source": [
    "sql_query = \"SELECT * FROM user\"\n",
    "dfuser = pd.read_sql(sql_query, con=mydb)\n",
    "dfuser.to_csv('user.csv',index=False)"
   ]
  },
  {
   "cell_type": "code",
   "execution_count": 26,
   "metadata": {},
   "outputs": [
    {
     "name": "stderr",
     "output_type": "stream",
     "text": [
      "C:\\Users\\hp\\AppData\\Local\\Temp\\ipykernel_18612\\260659702.py:2: UserWarning: pandas only supports SQLAlchemy connectable (engine/connection) or database string URI or sqlite3 DBAPI2 connection. Other DBAPI2 objects are not tested. Please consider using SQLAlchemy.\n",
      "  dfuserprofile = pd.read_sql(sql_query, con=mydb)\n"
     ]
    }
   ],
   "source": [
    "sql_query = \"SELECT * FROM userprofile\"\n",
    "dfuserprofile = pd.read_sql(sql_query, con=mydb)\n",
    "dfuserprofile.to_csv('userprofile.csv',index=False)"
   ]
  }
 ],
 "metadata": {
  "kernelspec": {
   "display_name": "Python 3",
   "language": "python",
   "name": "python3"
  },
  "language_info": {
   "codemirror_mode": {
    "name": "ipython",
    "version": 3
   },
   "file_extension": ".py",
   "mimetype": "text/x-python",
   "name": "python",
   "nbconvert_exporter": "python",
   "pygments_lexer": "ipython3",
   "version": "3.11.9"
  }
 },
 "nbformat": 4,
 "nbformat_minor": 2
}
