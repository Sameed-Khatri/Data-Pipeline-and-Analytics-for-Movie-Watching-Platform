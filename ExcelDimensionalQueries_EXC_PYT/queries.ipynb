{
 "cells": [
  {
   "cell_type": "code",
   "execution_count": 1,
   "metadata": {},
   "outputs": [],
   "source": [
    "import pandas as pd\n",
    "import mysql.connector"
   ]
  },
  {
   "cell_type": "code",
   "execution_count": 2,
   "metadata": {},
   "outputs": [],
   "source": [
    "# connecting to live datamart\n",
    "mydb = mysql.connector.connect(\n",
    "    host=\"localhost\",\n",
    "    user=\"root\",\n",
    "    password=\"root\",\n",
    "    database=\"contentfactmartlive\"\n",
    ")\n",
    "cursor = mydb.cursor()"
   ]
  },
  {
   "cell_type": "code",
   "execution_count": 4,
   "metadata": {},
   "outputs": [
    {
     "name": "stderr",
     "output_type": "stream",
     "text": [
      "C:\\Users\\hp\\AppData\\Local\\Temp\\ipykernel_12308\\3173385699.py:3: UserWarning: pandas only supports SQLAlchemy connectable (engine/connection) or database string URI or sqlite3 DBAPI2 connection. Other DBAPI2 objects are not tested. Please consider using SQLAlchemy.\n",
      "  dfTop10FilmViewed = pd.read_sql(query,con=mydb)\n"
     ]
    }
   ],
   "source": [
    "# top 10 most viewed films\n",
    "query = \"select f.title as FilmTitle, cf.totalViews as TotalViews from film f join contentfact cf on f.filmID = cf.filmID order by TotalViews desc limit 10;\"\n",
    "dfTop10FilmViewed = pd.read_sql(query,con=mydb)\n",
    "dfTop10FilmViewed.to_csv('Top10FilmViewed.csv',index=False)"
   ]
  },
  {
   "cell_type": "code",
   "execution_count": 5,
   "metadata": {},
   "outputs": [
    {
     "name": "stderr",
     "output_type": "stream",
     "text": [
      "C:\\Users\\hp\\AppData\\Local\\Temp\\ipykernel_12308\\2303842007.py:3: UserWarning: pandas only supports SQLAlchemy connectable (engine/connection) or database string URI or sqlite3 DBAPI2 connection. Other DBAPI2 objects are not tested. Please consider using SQLAlchemy.\n",
      "  dfTop10SeriesViewed = pd.read_sql(query,con=mydb)\n"
     ]
    }
   ],
   "source": [
    "# top 10 most viewed series\n",
    "query = \"select s.title as SerieTitle, cf.totalViews as TotalViews from serie s join contentfact cf on s.serieID = cf.serieID order by TotalViews desc limit 10;\"\n",
    "dfTop10SeriesViewed = pd.read_sql(query,con=mydb)\n",
    "dfTop10SeriesViewed.to_csv('Top10SeriesViewed.csv',index=False)"
   ]
  },
  {
   "cell_type": "code",
   "execution_count": 6,
   "metadata": {},
   "outputs": [
    {
     "name": "stderr",
     "output_type": "stream",
     "text": [
      "C:\\Users\\hp\\AppData\\Local\\Temp\\ipykernel_12308\\1512522457.py:3: UserWarning: pandas only supports SQLAlchemy connectable (engine/connection) or database string URI or sqlite3 DBAPI2 connection. Other DBAPI2 objects are not tested. Please consider using SQLAlchemy.\n",
      "  dfTop10ContentCountries = pd.read_sql(query,con=mydb)\n"
     ]
    }
   ],
   "source": [
    "# top 10 highest content producing countries\n",
    "query = \"select c.name as Country, COUNT(*) AS ContentCount from country c join contentfact cf on c.countryID = cf.countryID group by c.name order by ContentCount desc limit 10;\"\n",
    "dfTop10ContentCountries = pd.read_sql(query,con=mydb)\n",
    "dfTop10ContentCountries.to_csv('Top10ContentCountries.csv',index=False)"
   ]
  },
  {
   "cell_type": "code",
   "execution_count": 7,
   "metadata": {},
   "outputs": [
    {
     "name": "stderr",
     "output_type": "stream",
     "text": [
      "C:\\Users\\hp\\AppData\\Local\\Temp\\ipykernel_12308\\1948832892.py:3: UserWarning: pandas only supports SQLAlchemy connectable (engine/connection) or database string URI or sqlite3 DBAPI2 connection. Other DBAPI2 objects are not tested. Please consider using SQLAlchemy.\n",
      "  dfTotalMinutWatchedFilmOnSpecificGenre = pd.read_sql(query,con=mydb)\n"
     ]
    }
   ],
   "source": [
    "# total minutes watched of a film based on a specific genre (Action)\n",
    "query = \"SELECT f.title as FilmTitle, SUM(cf.totalWatchTime) AS TotalWatchTime FROM genreList gl JOIN contentFact cf ON gl.genreListID = cf.genreListID join film f on cf.filmID = f.filmID  WHERE FIND_IN_SET('Action', gl.genreList) > 0 GROUP BY f.title;\"\n",
    "dfTotalMinutWatchedFilmOnSpecificGenre = pd.read_sql(query,con=mydb)\n",
    "dfTotalMinutWatchedFilmOnSpecificGenre.to_csv('TotalMinutWatchedFilmOnSpecificGenre.csv',index=False)"
   ]
  },
  {
   "cell_type": "code",
   "execution_count": 8,
   "metadata": {},
   "outputs": [
    {
     "name": "stderr",
     "output_type": "stream",
     "text": [
      "C:\\Users\\hp\\AppData\\Local\\Temp\\ipykernel_12308\\2139006614.py:3: UserWarning: pandas only supports SQLAlchemy connectable (engine/connection) or database string URI or sqlite3 DBAPI2 connection. Other DBAPI2 objects are not tested. Please consider using SQLAlchemy.\n",
      "  dfTop10FilmsAvgRating = pd.read_sql(query,con=mydb)\n"
     ]
    }
   ],
   "source": [
    "# top 10 films based on average ratings\n",
    "query = \"SELECT f.title as FilmTitle, round(cf.averageRating,2) AS AverageRating FROM film f JOIN contentFact cf ON f.filmID = cf.filmID ORDER BY AverageRating DESC LIMIT 10;\"\n",
    "dfTop10FilmsAvgRating = pd.read_sql(query,con=mydb)\n",
    "dfTop10FilmsAvgRating.to_csv('Top10FilmsAvgRating.csv',index=False)"
   ]
  },
  {
   "cell_type": "code",
   "execution_count": 9,
   "metadata": {},
   "outputs": [
    {
     "name": "stderr",
     "output_type": "stream",
     "text": [
      "C:\\Users\\hp\\AppData\\Local\\Temp\\ipykernel_12308\\3620518366.py:3: UserWarning: pandas only supports SQLAlchemy connectable (engine/connection) or database string URI or sqlite3 DBAPI2 connection. Other DBAPI2 objects are not tested. Please consider using SQLAlchemy.\n",
      "  dfTop10DateContentWatched = pd.read_sql(query,con=mydb)\n"
     ]
    }
   ],
   "source": [
    "# top 10 dates on which most content was watched\n",
    "query = \"SELECT cf.peakViewDate as PeakViewDate, COUNT(*) AS TotalContentWatchedCount FROM contentFact cf GROUP BY cf.peakViewDate ORDER BY TotalContentWatchedCount DESC LIMIT 10;\"\n",
    "dfTop10DateContentWatched = pd.read_sql(query,con=mydb)\n",
    "dfTop10DateContentWatched.to_csv('Top10DateContentWatched.csv',index=False)"
   ]
  },
  {
   "cell_type": "code",
   "execution_count": 3,
   "metadata": {},
   "outputs": [
    {
     "name": "stderr",
     "output_type": "stream",
     "text": [
      "C:\\Users\\hp\\AppData\\Local\\Temp\\ipykernel_12308\\1554118887.py:3: UserWarning: pandas only supports SQLAlchemy connectable (engine/connection) or database string URI or sqlite3 DBAPI2 connection. Other DBAPI2 objects are not tested. Please consider using SQLAlchemy.\n",
      "  dfTop10SeriesAvgRating = pd.read_sql(query,con=mydb)\n"
     ]
    }
   ],
   "source": [
    "# top 10 series based on average ratings\n",
    "query = \"SELECT s.title as SerieTitle, round(cf.averageRating,2) AS AverageRating FROM serie s JOIN contentFact cf ON s.serieID = cf.serieID ORDER BY AverageRating DESC LIMIT 10;\"\n",
    "dfTop10SeriesAvgRating = pd.read_sql(query,con=mydb)\n",
    "dfTop10SeriesAvgRating.to_csv('Top10SeriesAvgRating.csv',index=False)"
   ]
  }
 ],
 "metadata": {
  "kernelspec": {
   "display_name": "Python 3",
   "language": "python",
   "name": "python3"
  },
  "language_info": {
   "codemirror_mode": {
    "name": "ipython",
    "version": 3
   },
   "file_extension": ".py",
   "mimetype": "text/x-python",
   "name": "python",
   "nbconvert_exporter": "python",
   "pygments_lexer": "ipython3",
   "version": "3.11.9"
  }
 },
 "nbformat": 4,
 "nbformat_minor": 2
}
